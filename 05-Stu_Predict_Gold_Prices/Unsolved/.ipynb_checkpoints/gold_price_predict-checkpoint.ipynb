{
 "cells": [
  {
   "cell_type": "markdown",
   "metadata": {},
   "source": [
    "# Students Do: Predicting Gold Closing Prices\n",
    "\n",
    "In this activity, you will gain hands-on experience by building an RNN LSTM for predicting gold closing prices using time-series data."
   ]
  },
  {
   "cell_type": "code",
   "execution_count": 59,
   "metadata": {},
   "outputs": [],
   "source": [
    "# Initial imports\n",
    "import numpy as np\n",
    "import pandas as pd\n",
    "\n",
    "%matplotlib inline"
   ]
  },
  {
   "cell_type": "markdown",
   "metadata": {},
   "source": [
    "## Instructions\n",
    "\n",
    "### Initial Setup\n",
    "\n",
    "To ensure models' reproducibility, set the random seed for `numpy` and `tensorflow` libraries."
   ]
  },
  {
   "cell_type": "code",
   "execution_count": 60,
   "metadata": {},
   "outputs": [],
   "source": [
    "# Set the random seed for reproducibility\n",
    "# Note: This is used for model prototyping, but it is good practice to comment this out and run multiple experiments to evaluate your model.\n",
    "from numpy.random import seed\n",
    "\n",
    "seed(1)\n",
    "from tensorflow import random\n",
    "\n",
    "random.set_seed(2)"
   ]
  },
  {
   "cell_type": "markdown",
   "metadata": {},
   "source": [
    "### Data Preparation\n",
    "\n",
    "In this section, you will retrieve the Gold historical prices from the London Bullion Market Association using the [Quandl API](https://www.quandl.com/data/LBMA/GOLD-Gold-Price-London-Fixing). Be sure to have your Quandl API key at hand.\n",
    "\n",
    "#### Data Retrieval\n",
    "\n",
    "Import your Quandl API key from an environment variable named `quandl_key`."
   ]
  },
  {
   "cell_type": "code",
   "execution_count": 61,
   "metadata": {},
   "outputs": [],
   "source": [
    "# Import the API key for QUANDL\n",
    "import os\n",
    "quandl_key = os.getenv(\"QUANDL_API_KEY\")\n"
   ]
  },
  {
   "cell_type": "markdown",
   "metadata": {},
   "source": [
    "Open the [\"Gold Price: London Fixing\" at the Quandl website](https://www.quandl.com/data/LBMA/GOLD-Gold-Price-London-Fixing), and set the URL to retrieve the historical prices of gold in `json` format."
   ]
  },
  {
   "cell_type": "code",
   "execution_count": 62,
   "metadata": {},
   "outputs": [],
   "source": [
    "# Set Gold price URL\n",
    "request_url = \"https://www.quandl.com/api/v3/datasets/LBMA/GOLD.json?api_key=\"\n",
    "\n",
    "gold_prices_url = request_url + quandl_key"
   ]
  },
  {
   "cell_type": "markdown",
   "metadata": {},
   "source": [
    "Use the `requests` library to retrieve the historical prices of gold in `json` format."
   ]
  },
  {
   "cell_type": "code",
   "execution_count": 63,
   "metadata": {},
   "outputs": [
    {
     "data": {
      "text/html": [
       "<div>\n",
       "<style scoped>\n",
       "    .dataframe tbody tr th:only-of-type {\n",
       "        vertical-align: middle;\n",
       "    }\n",
       "\n",
       "    .dataframe tbody tr th {\n",
       "        vertical-align: top;\n",
       "    }\n",
       "\n",
       "    .dataframe thead th {\n",
       "        text-align: right;\n",
       "    }\n",
       "</style>\n",
       "<table border=\"1\" class=\"dataframe\">\n",
       "  <thead>\n",
       "    <tr style=\"text-align: right;\">\n",
       "      <th></th>\n",
       "      <th>USD (AM)</th>\n",
       "      <th>USD (PM)</th>\n",
       "      <th>GBP (AM)</th>\n",
       "      <th>GBP (PM)</th>\n",
       "      <th>EURO (AM)</th>\n",
       "      <th>EURO (PM)</th>\n",
       "    </tr>\n",
       "    <tr>\n",
       "      <th>Date</th>\n",
       "      <th></th>\n",
       "      <th></th>\n",
       "      <th></th>\n",
       "      <th></th>\n",
       "      <th></th>\n",
       "      <th></th>\n",
       "    </tr>\n",
       "  </thead>\n",
       "  <tbody>\n",
       "    <tr>\n",
       "      <th>2020-12-21</th>\n",
       "      <td>1869.25</td>\n",
       "      <td>1880.00</td>\n",
       "      <td>1415.77</td>\n",
       "      <td>1413.57</td>\n",
       "      <td>1540.82</td>\n",
       "      <td>1539.53</td>\n",
       "    </tr>\n",
       "    <tr>\n",
       "      <th>2020-12-18</th>\n",
       "      <td>1878.95</td>\n",
       "      <td>1879.75</td>\n",
       "      <td>1390.80</td>\n",
       "      <td>1393.46</td>\n",
       "      <td>1533.41</td>\n",
       "      <td>1536.13</td>\n",
       "    </tr>\n",
       "    <tr>\n",
       "      <th>2020-12-17</th>\n",
       "      <td>1871.95</td>\n",
       "      <td>1890.75</td>\n",
       "      <td>1378.32</td>\n",
       "      <td>1390.65</td>\n",
       "      <td>1530.88</td>\n",
       "      <td>1542.85</td>\n",
       "    </tr>\n",
       "    <tr>\n",
       "      <th>2020-12-16</th>\n",
       "      <td>1861.35</td>\n",
       "      <td>1851.95</td>\n",
       "      <td>1377.59</td>\n",
       "      <td>1371.92</td>\n",
       "      <td>1525.38</td>\n",
       "      <td>1519.15</td>\n",
       "    </tr>\n",
       "  </tbody>\n",
       "</table>\n",
       "</div>"
      ],
      "text/plain": [
       "            USD (AM)  USD (PM)  GBP (AM)  GBP (PM)  EURO (AM)  EURO (PM)\n",
       "Date                                                                    \n",
       "2020-12-21   1869.25   1880.00   1415.77   1413.57    1540.82    1539.53\n",
       "2020-12-18   1878.95   1879.75   1390.80   1393.46    1533.41    1536.13\n",
       "2020-12-17   1871.95   1890.75   1378.32   1390.65    1530.88    1542.85\n",
       "2020-12-16   1861.35   1851.95   1377.59   1371.92    1525.38    1519.15"
      ]
     },
     "execution_count": 63,
     "metadata": {},
     "output_type": "execute_result"
    }
   ],
   "source": [
    "# Fetch Gold prices from QUANDL\n",
    "import requests\n",
    "\n",
    "response_data = requests.get(gold_prices_url).json()\n",
    "\n",
    "gold_df = pd.DataFrame(response_data[\"dataset\"][\"data\"])\n",
    "gold_df.columns = [ \"Date\",\n",
    "    \"USD (AM)\",\n",
    "    \"USD (PM)\",\n",
    "    \"GBP (AM)\",\n",
    "    \"GBP (PM)\",\n",
    "    \"EURO (AM)\",\n",
    "    \"EURO (PM)\" ]\n",
    "gold_df[\"Date\"] = pd.to_datetime(gold_df[\"Date\"])\n",
    "gold_df.set_index(\"Date\", inplace=True)\n",
    "gold_df.head(4)\n"
   ]
  },
  {
   "cell_type": "markdown",
   "metadata": {},
   "source": [
    "Explore the `json` response data and create a Pandas DataFrame containing the historical prices of gold in all the different currencies provided by the API, and set the data as the index of the DataFrame.\n",
    "\n",
    "Your DataFrame should look like the following sample:\n",
    "\n",
    "\n",
    "![Sample gold prices DataFrame](../Images/sample-gold-prices-df.png)\n",
    "\n",
    "**Note:** Remember that while working with time-series data, it's important to transform dates data to `datetime` data type explicitly. Review the [Quandl API documentation for time-series data](https://docs.quandl.com/docs/time-series) if needed."
   ]
  },
  {
   "cell_type": "code",
   "execution_count": 64,
   "metadata": {},
   "outputs": [
    {
     "data": {
      "text/plain": [
       "dict_keys(['id', 'dataset_code', 'database_code', 'name', 'description', 'refreshed_at', 'newest_available_date', 'oldest_available_date', 'column_names', 'frequency', 'type', 'premium', 'limit', 'transform', 'column_index', 'start_date', 'end_date', 'data', 'collapse', 'order', 'database_id'])"
      ]
     },
     "execution_count": 64,
     "metadata": {},
     "output_type": "execute_result"
    }
   ],
   "source": [
    "# Explore the `response_data` object\n",
    "\n",
    "# Fetch the keys of the `response_data` object\n",
    "response_data_keys = response_data[\"dataset\"].keys()\n",
    "response_data_keys"
   ]
  },
  {
   "cell_type": "code",
   "execution_count": 65,
   "metadata": {},
   "outputs": [],
   "source": [
    "# Explore the contents of the main key\n"
   ]
  },
  {
   "cell_type": "code",
   "execution_count": 66,
   "metadata": {},
   "outputs": [],
   "source": [
    "# Create a DataFrame with Gold prices\n",
    "\n",
    "#Transform the \"Date\" column to datetime\n",
    "\n",
    "# Set the \"Date\" column as the DataFrame Index\n",
    "\n",
    "# Show the DataFrame head\n"
   ]
  },
  {
   "cell_type": "markdown",
   "metadata": {},
   "source": [
    "#### Data Cleaning\n",
    "\n",
    "Before continue, corroborate if there are any `null` or missing values in the DataFrame, if so, fill the missing values with the previous price in the series.\n",
    "\n",
    "**Note:** You may want to review the [Working with missing data guide](https://pandas.pydata.org/pandas-docs/stable/user_guide/missing_data.html) from the Pandas documentation."
   ]
  },
  {
   "cell_type": "code",
   "execution_count": 67,
   "metadata": {},
   "outputs": [
    {
     "data": {
      "text/plain": [
       "16020"
      ]
     },
     "execution_count": 67,
     "metadata": {},
     "output_type": "execute_result"
    }
   ],
   "source": [
    "# Looking for missing values\n",
    "gold_df.isnull().sum().sum()\n"
   ]
  },
  {
   "cell_type": "code",
   "execution_count": 68,
   "metadata": {},
   "outputs": [
    {
     "data": {
      "text/html": [
       "<div>\n",
       "<style scoped>\n",
       "    .dataframe tbody tr th:only-of-type {\n",
       "        vertical-align: middle;\n",
       "    }\n",
       "\n",
       "    .dataframe tbody tr th {\n",
       "        vertical-align: top;\n",
       "    }\n",
       "\n",
       "    .dataframe thead th {\n",
       "        text-align: right;\n",
       "    }\n",
       "</style>\n",
       "<table border=\"1\" class=\"dataframe\">\n",
       "  <thead>\n",
       "    <tr style=\"text-align: right;\">\n",
       "      <th></th>\n",
       "      <th>USD (AM)</th>\n",
       "      <th>USD (PM)</th>\n",
       "      <th>GBP (AM)</th>\n",
       "      <th>GBP (PM)</th>\n",
       "      <th>EURO (AM)</th>\n",
       "      <th>EURO (PM)</th>\n",
       "    </tr>\n",
       "    <tr>\n",
       "      <th>Date</th>\n",
       "      <th></th>\n",
       "      <th></th>\n",
       "      <th></th>\n",
       "      <th></th>\n",
       "      <th></th>\n",
       "      <th></th>\n",
       "    </tr>\n",
       "  </thead>\n",
       "  <tbody>\n",
       "    <tr>\n",
       "      <th>2020-12-21</th>\n",
       "      <td>1869.25</td>\n",
       "      <td>1880.00</td>\n",
       "      <td>1415.770</td>\n",
       "      <td>1413.570</td>\n",
       "      <td>1540.820</td>\n",
       "      <td>1539.530</td>\n",
       "    </tr>\n",
       "    <tr>\n",
       "      <th>2020-12-18</th>\n",
       "      <td>1878.95</td>\n",
       "      <td>1879.75</td>\n",
       "      <td>1390.800</td>\n",
       "      <td>1393.460</td>\n",
       "      <td>1533.410</td>\n",
       "      <td>1536.130</td>\n",
       "    </tr>\n",
       "    <tr>\n",
       "      <th>2020-12-17</th>\n",
       "      <td>1871.95</td>\n",
       "      <td>1890.75</td>\n",
       "      <td>1378.320</td>\n",
       "      <td>1390.650</td>\n",
       "      <td>1530.880</td>\n",
       "      <td>1542.850</td>\n",
       "    </tr>\n",
       "    <tr>\n",
       "      <th>2020-12-16</th>\n",
       "      <td>1861.35</td>\n",
       "      <td>1851.95</td>\n",
       "      <td>1377.590</td>\n",
       "      <td>1371.920</td>\n",
       "      <td>1525.380</td>\n",
       "      <td>1519.150</td>\n",
       "    </tr>\n",
       "    <tr>\n",
       "      <th>2020-12-15</th>\n",
       "      <td>1844.30</td>\n",
       "      <td>1850.65</td>\n",
       "      <td>1383.780</td>\n",
       "      <td>1384.840</td>\n",
       "      <td>1516.570</td>\n",
       "      <td>1523.640</td>\n",
       "    </tr>\n",
       "    <tr>\n",
       "      <th>...</th>\n",
       "      <td>...</td>\n",
       "      <td>...</td>\n",
       "      <td>...</td>\n",
       "      <td>...</td>\n",
       "      <td>...</td>\n",
       "      <td>...</td>\n",
       "    </tr>\n",
       "    <tr>\n",
       "      <th>1968-01-08</th>\n",
       "      <td>35.14</td>\n",
       "      <td>37.70</td>\n",
       "      <td>14.586</td>\n",
       "      <td>15.679</td>\n",
       "      <td>244.383</td>\n",
       "      <td>243.039</td>\n",
       "    </tr>\n",
       "    <tr>\n",
       "      <th>1968-01-05</th>\n",
       "      <td>35.14</td>\n",
       "      <td>37.70</td>\n",
       "      <td>14.597</td>\n",
       "      <td>15.679</td>\n",
       "      <td>244.383</td>\n",
       "      <td>243.039</td>\n",
       "    </tr>\n",
       "    <tr>\n",
       "      <th>1968-01-04</th>\n",
       "      <td>35.14</td>\n",
       "      <td>37.70</td>\n",
       "      <td>14.603</td>\n",
       "      <td>15.679</td>\n",
       "      <td>244.383</td>\n",
       "      <td>243.039</td>\n",
       "    </tr>\n",
       "    <tr>\n",
       "      <th>1968-01-03</th>\n",
       "      <td>35.16</td>\n",
       "      <td>37.70</td>\n",
       "      <td>14.617</td>\n",
       "      <td>15.679</td>\n",
       "      <td>244.383</td>\n",
       "      <td>243.039</td>\n",
       "    </tr>\n",
       "    <tr>\n",
       "      <th>1968-01-02</th>\n",
       "      <td>35.18</td>\n",
       "      <td>37.70</td>\n",
       "      <td>14.641</td>\n",
       "      <td>15.679</td>\n",
       "      <td>244.383</td>\n",
       "      <td>243.039</td>\n",
       "    </tr>\n",
       "  </tbody>\n",
       "</table>\n",
       "<p>13391 rows × 6 columns</p>\n",
       "</div>"
      ],
      "text/plain": [
       "            USD (AM)  USD (PM)  GBP (AM)  GBP (PM)  EURO (AM)  EURO (PM)\n",
       "Date                                                                    \n",
       "2020-12-21   1869.25   1880.00  1415.770  1413.570   1540.820   1539.530\n",
       "2020-12-18   1878.95   1879.75  1390.800  1393.460   1533.410   1536.130\n",
       "2020-12-17   1871.95   1890.75  1378.320  1390.650   1530.880   1542.850\n",
       "2020-12-16   1861.35   1851.95  1377.590  1371.920   1525.380   1519.150\n",
       "2020-12-15   1844.30   1850.65  1383.780  1384.840   1516.570   1523.640\n",
       "...              ...       ...       ...       ...        ...        ...\n",
       "1968-01-08     35.14     37.70    14.586    15.679    244.383    243.039\n",
       "1968-01-05     35.14     37.70    14.597    15.679    244.383    243.039\n",
       "1968-01-04     35.14     37.70    14.603    15.679    244.383    243.039\n",
       "1968-01-03     35.16     37.70    14.617    15.679    244.383    243.039\n",
       "1968-01-02     35.18     37.70    14.641    15.679    244.383    243.039\n",
       "\n",
       "[13391 rows x 6 columns]"
      ]
     },
     "execution_count": 68,
     "metadata": {},
     "output_type": "execute_result"
    }
   ],
   "source": [
    "# Filling missing values with the previous ones\n",
    "gold_df.fillna(method=\"pad\")\n"
   ]
  },
  {
   "cell_type": "markdown",
   "metadata": {},
   "source": [
    "#### Create the Features `X` and Target `y` Data\n",
    "\n",
    "Use the `window_data()` function bellow, to create the features set `X` and the target vector `y`. Define a window size of `30` days and use the column of the closing gold price (`USD (PM)`) for as feature and target column; this will allow your model to predict gold prices in USD."
   ]
  },
  {
   "cell_type": "code",
   "execution_count": 69,
   "metadata": {},
   "outputs": [],
   "source": [
    "def window_data(df, window, feature_col_number, target_col_number):\n",
    "    \"\"\"\n",
    "    This function accepts the column number for the features (X) and the target (y).\n",
    "    It chunks the data up with a rolling window of Xt - window to predict Xt.\n",
    "    It returns two numpy arrays of X and y.\n",
    "    \"\"\"\n",
    "    X = []\n",
    "    y = []\n",
    "    for i in range(len(df) - window):\n",
    "        features = df.iloc[i : (i + window), feature_col_number]\n",
    "        target = df.iloc[(i + window), target_col_number]\n",
    "        X.append(features)\n",
    "        y.append(target)\n",
    "    return np.array(X), np.array(y).reshape(-1, 1)"
   ]
  },
  {
   "cell_type": "code",
   "execution_count": 70,
   "metadata": {},
   "outputs": [
    {
     "name": "stdout",
     "output_type": "stream",
     "text": [
      "X sample values:\n",
      "[[1880.   1879.75 1890.75 1851.95 1850.65 1831.15 1842.   1844.35 1841.75\n",
      "  1868.15 1859.95 1843.   1832.35 1822.6  1810.75 1762.55 1779.3  1807.4\n",
      "  1810.2  1799.6  1840.2  1875.7  1857.35 1876.1  1889.05 1885.6  1890.9\n",
      "  1874.85 1860.95 1878.7 ]\n",
      " [1879.75 1890.75 1851.95 1850.65 1831.15 1842.   1844.35 1841.75 1868.15\n",
      "  1859.95 1843.   1832.35 1822.6  1810.75 1762.55 1779.3  1807.4  1810.2\n",
      "  1799.6  1840.2  1875.7  1857.35 1876.1  1889.05 1885.6  1890.9  1874.85\n",
      "  1860.95 1878.7  1867.3 ]\n",
      " [1890.75 1851.95 1850.65 1831.15 1842.   1844.35 1841.75 1868.15 1859.95\n",
      "  1843.   1832.35 1822.6  1810.75 1762.55 1779.3  1807.4  1810.2  1799.6\n",
      "  1840.2  1875.7  1857.35 1876.1  1889.05 1885.6  1890.9  1874.85 1860.95\n",
      "  1878.7  1867.3  1940.8 ]] \n",
      "\n",
      "y sample values:\n",
      "[[1867.3 ]\n",
      " [1940.8 ]\n",
      " [1938.45]]\n"
     ]
    }
   ],
   "source": [
    "# Define the window size\n",
    "window_size = 30\n",
    "\n",
    "# Set the index of the feature and target columns\n",
    "feature_column = 1\n",
    "target_column = 1\n",
    "\n",
    "# Create the features (X) and target (y) data using the window_data() function.\n",
    "X, y = window_data(gold_df, window_size, feature_column, target_column)\n",
    "\n",
    "# Print a few sample values from X and y\n",
    "print (f\"X sample values:\\n{X[:3]} \\n\")\n",
    "print (f\"y sample values:\\n{y[:3]}\")"
   ]
  },
  {
   "cell_type": "markdown",
   "metadata": {},
   "source": [
    "#### Split Data Between Training and Testing Sets\n",
    "\n",
    "To avoid the dataset being randomized, manually create the training and testing sets using array slicing. Use 70% of the data for training and the remainder for testing."
   ]
  },
  {
   "cell_type": "code",
   "execution_count": 71,
   "metadata": {},
   "outputs": [],
   "source": [
    "# Manually splitting the data\n",
    "split = int(0.7 * len(X))\n",
    "\n",
    "X_train = X[: split]\n",
    "X_test = X[split:]\n",
    "\n",
    "y_train = y[: split]\n",
    "y_test = y[split:]"
   ]
  },
  {
   "cell_type": "markdown",
   "metadata": {},
   "source": [
    "#### Scale Data with `MinMaxScaler`\n",
    "\n",
    "Before training the RNN LSTM model, use the `MinMaxScaler` from `sklearn` to scale the training and testing data between `0` and `1`.\n",
    "\n",
    "**Note:** You need to scale both features and target sets."
   ]
  },
  {
   "cell_type": "code",
   "execution_count": 72,
   "metadata": {},
   "outputs": [],
   "source": [
    "# Importing the MinMaxScaler from sklearn\n",
    "from sklearn.preprocessing import MinMaxScaler\n",
    "\n",
    "# Create a MinMaxScaler object\n",
    "scaler = MinMaxScaler()\n",
    "\n",
    "# Fit the MinMaxScaler object with the features data X\n",
    "scaler.fit(X)\n",
    "\n",
    "# Scale the features training and testing sets\n",
    "X_train = scaler.transform(X_train)\n",
    "X_test = scaler.transform(X_test)\n",
    "\n",
    "# Fit the MinMaxScaler object with the target data Y\n",
    "scaler.fit(y)\n",
    "\n",
    "# Scale the target training and testing sets\n",
    "y_train = scaler.transform(y_train)\n",
    "y_test = scaler.transform(y_test)\n"
   ]
  },
  {
   "cell_type": "markdown",
   "metadata": {},
   "source": [
    "#### Reshape Features Data for the LSTM Model\n",
    "\n",
    "The LSTM API from Keras needs to receive the features data as a _vertical vector_, so that reshape the `X` data in the form `reshape((X_train.shape[0], X_train.shape[1], 1))`. Both sets, training, and testing should be reshaped."
   ]
  },
  {
   "cell_type": "code",
   "execution_count": 73,
   "metadata": {},
   "outputs": [
    {
     "name": "stdout",
     "output_type": "stream",
     "text": [
      "X_train sample values:\n",
      "[[[0.90791675]\n",
      "  [0.90779374]\n",
      "  [0.91320606]\n",
      "  [0.89411533]\n",
      "  [0.89347569]\n",
      "  [0.88388113]\n",
      "  [0.88921964]\n",
      "  [0.89037591]\n",
      "  [0.88909663]\n",
      "  [0.9020862 ]\n",
      "  [0.89805156]\n",
      "  [0.88971167]\n",
      "  [0.88447156]\n",
      "  [0.87967428]\n",
      "  [0.87384373]\n",
      "  [0.85012793]\n",
      "  [0.85836942]\n",
      "  [0.87219543]\n",
      "  [0.87357312]\n",
      "  [0.86835761]\n",
      "  [0.88833399]\n",
      "  [0.90580102]\n",
      "  [0.89677229]\n",
      "  [0.90599784]\n",
      "  [0.91236961]\n",
      "  [0.91067211]\n",
      "  [0.91327987]\n",
      "  [0.9053828 ]\n",
      "  [0.89854359]\n",
      "  [0.90727711]]\n",
      "\n",
      " [[0.90779374]\n",
      "  [0.91320606]\n",
      "  [0.89411533]\n",
      "  [0.89347569]\n",
      "  [0.88388113]\n",
      "  [0.88921964]\n",
      "  [0.89037591]\n",
      "  [0.88909663]\n",
      "  [0.9020862 ]\n",
      "  [0.89805156]\n",
      "  [0.88971167]\n",
      "  [0.88447156]\n",
      "  [0.87967428]\n",
      "  [0.87384373]\n",
      "  [0.85012793]\n",
      "  [0.85836942]\n",
      "  [0.87219543]\n",
      "  [0.87357312]\n",
      "  [0.86835761]\n",
      "  [0.88833399]\n",
      "  [0.90580102]\n",
      "  [0.89677229]\n",
      "  [0.90599784]\n",
      "  [0.91236961]\n",
      "  [0.91067211]\n",
      "  [0.91327987]\n",
      "  [0.9053828 ]\n",
      "  [0.89854359]\n",
      "  [0.90727711]\n",
      "  [0.90166798]]\n",
      "\n",
      " [[0.91320606]\n",
      "  [0.89411533]\n",
      "  [0.89347569]\n",
      "  [0.88388113]\n",
      "  [0.88921964]\n",
      "  [0.89037591]\n",
      "  [0.88909663]\n",
      "  [0.9020862 ]\n",
      "  [0.89805156]\n",
      "  [0.88971167]\n",
      "  [0.88447156]\n",
      "  [0.87967428]\n",
      "  [0.87384373]\n",
      "  [0.85012793]\n",
      "  [0.85836942]\n",
      "  [0.87219543]\n",
      "  [0.87357312]\n",
      "  [0.86835761]\n",
      "  [0.88833399]\n",
      "  [0.90580102]\n",
      "  [0.89677229]\n",
      "  [0.90599784]\n",
      "  [0.91236961]\n",
      "  [0.91067211]\n",
      "  [0.91327987]\n",
      "  [0.9053828 ]\n",
      "  [0.89854359]\n",
      "  [0.90727711]\n",
      "  [0.90166798]\n",
      "  [0.93783212]]] \n",
      "\n",
      "X_test sample values:\n",
      "[[[0.16918422]\n",
      "  [0.1689382 ]\n",
      "  [0.16741291]\n",
      "  [0.16851998]\n",
      "  [0.17417831]\n",
      "  [0.17430132]\n",
      "  [0.17439972]\n",
      "  [0.17540838]\n",
      "  [0.17417831]\n",
      "  [0.18020567]\n",
      "  [0.17959063]\n",
      "  [0.17823755]\n",
      "  [0.17836056]\n",
      "  [0.18008266]\n",
      "  [0.17934462]\n",
      "  [0.18217378]\n",
      "  [0.17553139]\n",
      "  [0.17688447]\n",
      "  [0.16795414]\n",
      "  [0.16765893]\n",
      "  [0.16778193]\n",
      "  [0.16815095]\n",
      "  [0.16704389]\n",
      "  [0.16753592]\n",
      "  [0.16778193]\n",
      "  [0.17147215]\n",
      "  [0.17147215]\n",
      "  [0.17115233]\n",
      "  [0.17085711]\n",
      "  [0.17075871]]\n",
      "\n",
      " [[0.1689382 ]\n",
      "  [0.16741291]\n",
      "  [0.16851998]\n",
      "  [0.17417831]\n",
      "  [0.17430132]\n",
      "  [0.17439972]\n",
      "  [0.17540838]\n",
      "  [0.17417831]\n",
      "  [0.18020567]\n",
      "  [0.17959063]\n",
      "  [0.17823755]\n",
      "  [0.17836056]\n",
      "  [0.18008266]\n",
      "  [0.17934462]\n",
      "  [0.18217378]\n",
      "  [0.17553139]\n",
      "  [0.17688447]\n",
      "  [0.16795414]\n",
      "  [0.16765893]\n",
      "  [0.16778193]\n",
      "  [0.16815095]\n",
      "  [0.16704389]\n",
      "  [0.16753592]\n",
      "  [0.16778193]\n",
      "  [0.17147215]\n",
      "  [0.17147215]\n",
      "  [0.17115233]\n",
      "  [0.17085711]\n",
      "  [0.17075871]\n",
      "  [0.17134914]]\n",
      "\n",
      " [[0.16741291]\n",
      "  [0.16851998]\n",
      "  [0.17417831]\n",
      "  [0.17430132]\n",
      "  [0.17439972]\n",
      "  [0.17540838]\n",
      "  [0.17417831]\n",
      "  [0.18020567]\n",
      "  [0.17959063]\n",
      "  [0.17823755]\n",
      "  [0.17836056]\n",
      "  [0.18008266]\n",
      "  [0.17934462]\n",
      "  [0.18217378]\n",
      "  [0.17553139]\n",
      "  [0.17688447]\n",
      "  [0.16795414]\n",
      "  [0.16765893]\n",
      "  [0.16778193]\n",
      "  [0.16815095]\n",
      "  [0.16704389]\n",
      "  [0.16753592]\n",
      "  [0.16778193]\n",
      "  [0.17147215]\n",
      "  [0.17147215]\n",
      "  [0.17115233]\n",
      "  [0.17085711]\n",
      "  [0.17075871]\n",
      "  [0.17134914]\n",
      "  [0.17098012]]]\n"
     ]
    }
   ],
   "source": [
    "# Reshape the features data\n",
    "X_train = X_train.reshape((X_train.shape[0], X_train.shape[1], 1))\n",
    "X_test = X_test.reshape((X_test.shape[0], X_test.shape[1], 1))\n",
    "\n",
    "# Print some sample data after reshaping the datasets\n",
    "print (f\"X_train sample values:\\n{X_train[:3]} \\n\")\n",
    "print (f\"X_test sample values:\\n{X_test[:3]}\")"
   ]
  },
  {
   "cell_type": "markdown",
   "metadata": {},
   "source": [
    "---\n",
    "\n",
    "### Build and Train the LSTM RNN\n",
    "\n",
    "In this section, you will design a custom LSTM RNN in Keras and fit (train) it using the training data we defined.\n",
    "\n",
    "You will need to:\n",
    "\n",
    "1. Define the model architecture in Keras.\n",
    "\n",
    "2. Compile the model.\n",
    "\n",
    "3. Fit the model with the training data."
   ]
  },
  {
   "cell_type": "code",
   "execution_count": 74,
   "metadata": {},
   "outputs": [],
   "source": [
    "# Importing required Keras modules\n",
    "from tensorflow.keras.models import Sequential\n",
    "from tensorflow.keras.layers import LSTM, Dense, Dropout"
   ]
  },
  {
   "cell_type": "markdown",
   "metadata": {},
   "source": [
    "#### Create the LSTM RNN Model Structure\n",
    "\n",
    "Design the structure of your RNN LSTM as follows:\n",
    "\n",
    "* Number of units per layer: `30` (same as the window size)\n",
    "\n",
    "* Dropout fraction: `0.2` (20% of neurons will be randomly dropped on each epoch)\n",
    "\n",
    "* Add three `LSTM` layers to your model, remember to add a `Dropout` layer after each `LSTM` layer, and to set `return_sequences=True` in the first two layers only.\n",
    "\n",
    "* Add a `Dense` output layer with one unit."
   ]
  },
  {
   "cell_type": "code",
   "execution_count": 77,
   "metadata": {},
   "outputs": [],
   "source": [
    "# Define the LSTM RNN model.\n",
    "model = Sequential()\n",
    "\n",
    "# Initial model setup\n",
    "number_units = 30\n",
    "dropout_fraction = 0.2\n",
    "\n",
    "# Layer 1\n",
    "model.add(LSTM(units=number_units, return_sequences=True, input_shape=(X_train.shape[1], 1)))\n",
    "model.add(Dropout(dropout_fraction))\n",
    "\n",
    "# Layer 2\n",
    "model.add(LSTM(units=number_units, return_sequences=True, input_shape=(X_train.shape[1], 1)))\n",
    "model.add(Dropout(dropout_fraction))\n",
    "\n",
    "# Layer 3\n",
    "model.add(LSTM(units=number_units, input_shape=(X_train.shape[1], 1)))\n",
    "model.add(Dropout(dropout_fraction))\n",
    "\n",
    "# Output layer\n",
    "model.add(Dense(1))\n"
   ]
  },
  {
   "cell_type": "markdown",
   "metadata": {},
   "source": [
    "#### Compile the LSTM RNN Model\n",
    "\n",
    "Compile the model using the `adam` optimizer, and `mean_square_error` as loss function since the value you want to predict is continuous."
   ]
  },
  {
   "cell_type": "code",
   "execution_count": 78,
   "metadata": {},
   "outputs": [],
   "source": [
    "# Compile the model\n",
    "model.compile(optimizer=\"adam\", loss=\"mean_squared_error\")"
   ]
  },
  {
   "cell_type": "code",
   "execution_count": 79,
   "metadata": {},
   "outputs": [
    {
     "name": "stdout",
     "output_type": "stream",
     "text": [
      "Model: \"sequential_1\"\n",
      "_________________________________________________________________\n",
      "Layer (type)                 Output Shape              Param #   \n",
      "=================================================================\n",
      "lstm_3 (LSTM)                (None, 30, 30)            3840      \n",
      "_________________________________________________________________\n",
      "dropout_3 (Dropout)          (None, 30, 30)            0         \n",
      "_________________________________________________________________\n",
      "lstm_4 (LSTM)                (None, 30, 30)            7320      \n",
      "_________________________________________________________________\n",
      "dropout_4 (Dropout)          (None, 30, 30)            0         \n",
      "_________________________________________________________________\n",
      "lstm_5 (LSTM)                (None, 30)                7320      \n",
      "_________________________________________________________________\n",
      "dropout_5 (Dropout)          (None, 30)                0         \n",
      "_________________________________________________________________\n",
      "dense (Dense)                (None, 1)                 31        \n",
      "=================================================================\n",
      "Total params: 18,511\n",
      "Trainable params: 18,511\n",
      "Non-trainable params: 0\n",
      "_________________________________________________________________\n"
     ]
    }
   ],
   "source": [
    "# Show the model summary\n",
    "model.summary()"
   ]
  },
  {
   "cell_type": "markdown",
   "metadata": {},
   "source": [
    "#### Train the Model\n",
    "\n",
    "Train (fit) the model with the training data using `10` epochs and a `batch_size=90`. Since you are working with time-series data, remember to set `shuffle=False` since it's necessary to keep the sequential order of the data."
   ]
  },
  {
   "cell_type": "code",
   "execution_count": null,
   "metadata": {},
   "outputs": [
    {
     "name": "stdout",
     "output_type": "stream",
     "text": [
      "Epoch 1/4\n"
     ]
    }
   ],
   "source": [
    "# Train the model\n",
    "model.fit(X_train, y_train, epochs=4, shuffle=False, batch_size=90, verbose=1)\n"
   ]
  },
  {
   "cell_type": "markdown",
   "metadata": {},
   "source": [
    "---\n",
    "\n",
    "### Model Performance\n",
    "\n",
    "In this section, you will evaluate the model using the test data. \n",
    "\n",
    "You will need to:\n",
    "\n",
    "1. Evaluate the model using the `X_test` and `y_test` data.\n",
    "\n",
    "2. Use the `X_test` data to make predictions.\n",
    "\n",
    "3. Create a DataFrame of Real (`y_test`) vs. predicted values.\n",
    "\n",
    "4. Plot the real vs. predicted values as a line chart."
   ]
  },
  {
   "cell_type": "markdown",
   "metadata": {},
   "source": [
    "#### Evaluate the Model\n",
    "\n",
    "Use the `evaluate()` method of the model using the testing data."
   ]
  },
  {
   "cell_type": "code",
   "execution_count": null,
   "metadata": {},
   "outputs": [],
   "source": [
    "# Evaluate the model\n"
   ]
  },
  {
   "cell_type": "markdown",
   "metadata": {},
   "source": [
    "#### Make Predictions\n",
    "\n",
    "Use the `predict()` method of the model to make some closing gold price predictions using your brand new LSTM RNN model and your testing data. Save the predictions in a variable called `predicted`."
   ]
  },
  {
   "cell_type": "code",
   "execution_count": null,
   "metadata": {},
   "outputs": [],
   "source": [
    "# Make predictions using the testing data X_test\n"
   ]
  },
  {
   "cell_type": "markdown",
   "metadata": {},
   "source": [
    "Since you scaled the original values using the `MinMaxScaler`, you need to recover the original gold prices to better understand of the predictions. Use the `inverse_transform()` method of the scaler to decode the scaled testing and predicted values to their original scale."
   ]
  },
  {
   "cell_type": "code",
   "execution_count": null,
   "metadata": {},
   "outputs": [],
   "source": [
    "# Recover the original prices instead of the scaled version\n"
   ]
  },
  {
   "cell_type": "markdown",
   "metadata": {},
   "source": [
    "#### Plotting Predicted Vs. Real Prices\n",
    "\n",
    "Create a Pandas DataFrame with an index and two columns as follows to plot the predicted vs. the actual gold prices.\n",
    "\n",
    "* Index: The datetime index from the `gold_df` DataFrame created previously. \n",
    "\n",
    "* Column 1: Actual prices (testing data)\n",
    "\n",
    "* Column 2: Predicted prices\n",
    "\n",
    "Your DataFrame should look like the sample below:\n",
    "\n",
    "![Sample actual vs. predicted gold prices](../Images/sample-gold-prices-predictions-df.png)"
   ]
  },
  {
   "cell_type": "code",
   "execution_count": null,
   "metadata": {},
   "outputs": [],
   "source": [
    "# Create a DataFrame of Real and Predicted values\n",
    "\n",
    "# Show the DataFrame's head\n"
   ]
  },
  {
   "cell_type": "markdown",
   "metadata": {},
   "source": [
    "Use the `plot()` method from the DataFrame to create a line chart to contrast the actual vs. the predicted gold prices."
   ]
  },
  {
   "cell_type": "code",
   "execution_count": null,
   "metadata": {},
   "outputs": [],
   "source": [
    "# Plot the real vs predicted prices as a line chart\n"
   ]
  }
 ],
 "metadata": {
  "kernelspec": {
   "display_name": "Python [conda env:pyvizenv] *",
   "language": "python",
   "name": "conda-env-pyvizenv-py"
  },
  "language_info": {
   "codemirror_mode": {
    "name": "ipython",
    "version": 3
   },
   "file_extension": ".py",
   "mimetype": "text/x-python",
   "name": "python",
   "nbconvert_exporter": "python",
   "pygments_lexer": "ipython3",
   "version": "3.8.3"
  }
 },
 "nbformat": 4,
 "nbformat_minor": 4
}
